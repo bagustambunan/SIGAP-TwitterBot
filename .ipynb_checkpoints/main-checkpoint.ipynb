{
 "cells": [
  {
   "cell_type": "markdown",
   "metadata": {},
   "source": [
    "# Import library"
   ]
  },
  {
   "cell_type": "code",
   "execution_count": 1,
   "metadata": {},
   "outputs": [],
   "source": [
    "import tweepy\n",
    "import urllib.request\n",
    "import json\n",
    "import numpy as np\n",
    "import pandas as pd\n",
    "import matplotlib.pyplot as plt\n",
    "from datetime import datetime, date, timedelta\n",
    "from PIL import Image, ImageDraw, ImageFont"
   ]
  },
  {
   "cell_type": "markdown",
   "metadata": {},
   "source": [
    "# Variable"
   ]
  },
  {
   "cell_type": "code",
   "execution_count": 2,
   "metadata": {},
   "outputs": [],
   "source": [
    "img_name = \"sigap_summary.png\""
   ]
  },
  {
   "cell_type": "markdown",
   "metadata": {},
   "source": [
    "# Script"
   ]
  },
  {
   "cell_type": "code",
   "execution_count": 3,
   "metadata": {},
   "outputs": [],
   "source": [
    "def diagramNasional():\n",
    "    import urllib.request\n",
    "    import json\n",
    "    import numpy as np\n",
    "    import pandas as pd\n",
    "    import matplotlib.pyplot as plt\n",
    "\n",
    "    url_indo = \"https://data.covid19.go.id/public/api/update.json\"\n",
    "    respon_indo = urllib.request.urlopen(url_indo)\n",
    "    data_indo = json.loads(respon_indo.read())\n",
    "    data_indo = data_indo[\"update\"][\"harian\"]\n",
    "    \n",
    "    data_positif_baru = []\n",
    "    data_dirawat_baru = []\n",
    "    data_sembuh_baru = []\n",
    "    data_meninggal_baru = []\n",
    "\n",
    "    for i in range(len(data_indo)):\n",
    "        data_positif_baru.append(data_indo[i][\"jumlah_positif\"][\"value\"])\n",
    "        data_dirawat_baru.append(data_indo[i][\"jumlah_dirawat\"][\"value\"])\n",
    "        data_sembuh_baru.append(data_indo[i][\"jumlah_sembuh\"][\"value\"])\n",
    "        data_meninggal_baru.append(data_indo[i][\"jumlah_meninggal\"][\"value\"])\n",
    "\n",
    "    tgl1 = pd.date_range(start='2020-03-02', periods=len(data_indo))\n",
    "    d1 = tgl1.strftime(\"%d\")\n",
    "    m1 = tgl1.month_name()\n",
    "    dm1 = tgl1.strftime(\"%d/%m\")\n",
    "\n",
    "    df_indo = pd.DataFrame()\n",
    "    df_indo['dm']=dm1\n",
    "    df_indo['tgl']=tgl1\n",
    "    df_indo[\"data_positif_baru\"] = data_positif_baru\n",
    "    df_indo[\"data_dirawat_baru\"] = data_dirawat_baru\n",
    "    df_indo[\"data_sembuh_baru\"] = data_sembuh_baru\n",
    "    df_indo[\"data_meninggal_baru\"] = data_meninggal_baru\n",
    "    \n",
    "    fig = plt.figure()\n",
    "    ax = fig.add_axes([0.1, 0.1, 0.83, 0.85])\n",
    "\n",
    "    df_indo.plot(x='dm', y='data_positif_baru', kind='line', label=\"Positif\", color=\"#ffc107\", ax=ax, linewidth=1.5, zorder=99)\n",
    "    df_indo.plot(x='dm', y='data_dirawat_baru', kind='line', label=\"Dirawat\", color=\"#168ACE\", ax=ax, linewidth=1.5, zorder=100)\n",
    "    df_indo.plot(x='dm', y='data_sembuh_baru', kind='line', label=\"Sembuh\", color=\"#48BA5D\", ax=ax, linewidth=1.5, zorder=101)\n",
    "    df_indo.plot(x='dm', y='data_meninggal_baru', kind='line', label=\"Meninggal dunia\", color=\"#F25050\", ax=ax, linewidth=1.5, zorder=102)\n",
    "    ax.grid(b=True, which='major', color='#ffffff', linestyle='-', alpha=0.5)\n",
    "\n",
    "    plt.legend(loc='upper left',fontsize=11)\n",
    "    plt.xlabel('')\n",
    "    plt.ylabel('')\n",
    "\n",
    "    plt.setp(ax.spines.values(), color=\"#ffffff\")\n",
    "    plt.setp([ax.get_xticklines(), ax.get_yticklines()], color=\"#ffffff\")\n",
    "\n",
    "    ax.tick_params(axis='x', colors='#ffffff')\n",
    "    ax.tick_params(axis='y', colors='#ffffff')\n",
    "    ax.yaxis.label.set_color('#ffffff')\n",
    "    ax.xaxis.label.set_color('#ffffff')\n",
    "\n",
    "    fig.savefig('imgs/diagram2.png', dpi=120, transparent=True)"
   ]
  },
  {
   "cell_type": "code",
   "execution_count": 4,
   "metadata": {},
   "outputs": [],
   "source": [
    "def gambarNasional(resp, tglUpdate, totalConfirmed, totalCare, totalRecovered, totalDeaths, newConfirmed, newCare, newRecovered, newDeaths):\n",
    "    \n",
    "    diagramNasional()\n",
    "\n",
    "    font = ImageFont.load_default().font\n",
    "\n",
    "    utama = Image.open(\"imgs/bot2_z.png\")\n",
    "    d = ImageDraw.Draw(utama)\n",
    "\n",
    "    diagram1 = Image.open(\"imgs/diagram2.png\")\n",
    "    newsize = (640, 460)\n",
    "    diagram2 = diagram1.resize(newsize) \n",
    "\n",
    "    offset = (320, 150)\n",
    "    utama.paste(diagram2, offset, diagram2)\n",
    "\n",
    "    # Tanggal update\n",
    "    fnt = ImageFont.truetype(\"fonts/Museo300-Regular.otf\",23)\n",
    "    d.text((112,65), \"Update: \"+tglUpdate, font=fnt, fill=\"#ECEB04\")\n",
    "\n",
    "    # Total\n",
    "    fnt = ImageFont.truetype(\"fonts/Museo700-Regular.otf\",45)\n",
    "    d.text((37,149), totalConfirmed, font=fnt, fill=\"#ffffff\")\n",
    "    d.text((37,280), totalCare, font=fnt, fill=\"#ffffff\")\n",
    "    d.text((37,412), totalRecovered, font=fnt, fill=\"#ffffff\")\n",
    "    d.text((37,542), totalDeaths, font=fnt, fill=\"#ffffff\")\n",
    "\n",
    "    # +\n",
    "    fnt = ImageFont.truetype(\"fonts/arial.ttf\",17)\n",
    "    d.text((37,204), \"(\"+newConfirmed+\")\", font=fnt, fill=\"#DDDE06\")\n",
    "    d.text((37,335), \"(\"+newCare+\")\", font=fnt, fill=\"#DDDE06\")\n",
    "    d.text((37,466), \"(\"+newRecovered+\")\", font=fnt, fill=\"#DDDE06\")\n",
    "    d.text((37,597), \"(\"+newDeaths+\")\", font=fnt, fill=\"#DDDE06\")\n",
    "\n",
    "    utama.save('imgs/'+img_name)\n",
    "    utama.show()"
   ]
  },
  {
   "cell_type": "code",
   "execution_count": 5,
   "metadata": {},
   "outputs": [],
   "source": [
    "def dataIndonesia():\n",
    "    \n",
    "    import urllib.request\n",
    "    import json\n",
    "    import numpy as np\n",
    "    from datetime import datetime, date, timedelta\n",
    "    \n",
    "    url_indo = \"https://data.covid19.go.id/public/api/update.json\"\n",
    "    respon_indo = urllib.request.urlopen(url_indo)\n",
    "    data_indo = json.loads(respon_indo.read())\n",
    "    \n",
    "    tglUp1 = data_indo[\"update\"][\"penambahan\"][\"tanggal\"].split(\"-\")\n",
    "    tglUpdate = date(int(tglUp1[0]), int(tglUp1[1]), int(tglUp1[2]))\n",
    "    \n",
    "    totalConfirmed = data_indo[\"update\"][\"total\"][\"jumlah_positif\"]\n",
    "    totalCare = data_indo[\"update\"][\"total\"][\"jumlah_dirawat\"]\n",
    "    totalRecovered = data_indo[\"update\"][\"total\"][\"jumlah_sembuh\"]\n",
    "    totalDeaths = data_indo[\"update\"][\"total\"][\"jumlah_meninggal\"]\n",
    "    newConfirmed = data_indo[\"update\"][\"penambahan\"][\"jumlah_positif\"]\n",
    "    newCare = data_indo[\"update\"][\"penambahan\"][\"jumlah_dirawat\"]\n",
    "    newRecovered = data_indo[\"update\"][\"penambahan\"][\"jumlah_sembuh\"]\n",
    "    newDeaths = data_indo[\"update\"][\"penambahan\"][\"jumlah_meninggal\"]\n",
    "    \n",
    "    if(newConfirmed > 0):\n",
    "        newConfirmed = \"+\" + str(newConfirmed)\n",
    "    if(newCare > 0):\n",
    "        newCare = \"+\" + str(newCare)\n",
    "    if(newRecovered > 0):\n",
    "        newRecovered = \"+\" + str(newRecovered)\n",
    "    if(newDeaths > 0):\n",
    "        newDeaths = \"+\" + str(newDeaths)\n",
    "        \n",
    "    bulan = [\"Januari\",\"Februari\",\"Maret\",\"April\",\"Mei\",\"Juni\",\"Juli\",\"Agustus\",\"September\",\"Oktober\",\"November\",\"Desember\"]\n",
    "        \n",
    "    tglUpdate = str(tglUpdate.strftime(\"%d\")) + \" \" + bulan[int(tglUpdate.strftime(\"%m\"))-1] + \" \" +   str(tglUpdate.strftime(\"%Y\"))\n",
    "    totalConfirmed = str(totalConfirmed)\n",
    "    totalCare = str(totalCare)\n",
    "    totalRecovered = str(totalRecovered)\n",
    "    totalDeaths = str(totalDeaths)\n",
    "    newConfirmed = str(newConfirmed)\n",
    "    newCare = str(newCare)\n",
    "    newRecovered = str(newRecovered)\n",
    "    newDeaths = str(newDeaths)\n",
    "\n",
    "    resp = \"Data Covid-19 di Indonesia (Update \"+tglUpdate+\")\\n\\n\"\n",
    "    resp += \"Kasus positif: \"+totalConfirmed+\" (\"+newConfirmed+\")\\n\"\n",
    "    resp += \"Dalam perawatan: \"+totalCare+\" (\"+newCare+\")\\n\"\n",
    "    resp += \"Pasien sembuh: \"+totalRecovered+\" (\"+newRecovered+\")\\n\"\n",
    "    resp += \"Meninggal dunia: \"+totalDeaths+\" (\"+newDeaths+\")\"\n",
    "    \n",
    "    gambarNasional(resp, tglUpdate, totalConfirmed, totalCare, totalRecovered, totalDeaths, newConfirmed, newCare, newRecovered, newDeaths)\n",
    "    \n",
    "    return resp"
   ]
  },
  {
   "cell_type": "code",
   "execution_count": null,
   "metadata": {},
   "outputs": [],
   "source": []
  },
  {
   "cell_type": "code",
   "execution_count": null,
   "metadata": {},
   "outputs": [],
   "source": []
  },
  {
   "cell_type": "code",
   "execution_count": 6,
   "metadata": {},
   "outputs": [
    {
     "name": "stderr",
     "output_type": "stream",
     "text": [
      "c:\\users\\eru chitanda\\appdata\\local\\programs\\python\\python38\\lib\\site-packages\\pandas\\plotting\\_matplotlib\\core.py:1235: UserWarning: FixedFormatter should only be used together with FixedLocator\n",
      "  ax.set_xticklabels(xticklabels)\n"
     ]
    },
    {
     "data": {
      "image/png": "[encoded data removed]",
      "text/plain": [
       "<Figure size 432x288 with 1 Axes>"
      ]
     },
     "metadata": {
      "needs_background": "dark"
     },
     "output_type": "display_data"
    }
   ],
   "source": [
    "teks = dataIndonesia()"
   ]
  },
  {
   "cell_type": "code",
   "execution_count": 7,
   "metadata": {},
   "outputs": [
    {
     "data": {
      "text/plain": [
       "'Data Covid-19 di Indonesia (Update 07 Juli 2021)\\n\\nKasus positif: 2379397 (+34379)\\nDalam perawatan: 343101 (+18504)\\nPasien sembuh: 1973388 (+14835)\\nMeninggal dunia: 62908 (+1040)'"
      ]
     },
     "execution_count": 7,
     "metadata": {},
     "output_type": "execute_result"
    }
   ],
   "source": [
    "teks"
   ]
  },
  {
   "cell_type": "code",
   "execution_count": 8,
   "metadata": {},
   "outputs": [
    {
     "ename": "NameError",
     "evalue": "name 'heh' is not defined",
     "output_type": "error",
     "traceback": [
      "\u001b[1;31m---------------------------------------------------------------------------\u001b[0m",
      "\u001b[1;31mNameError\u001b[0m                                 Traceback (most recent call last)",
      "\u001b[1;32m<ipython-input-8-e2317dac048e>\u001b[0m in \u001b[0;36m<module>\u001b[1;34m\u001b[0m\n\u001b[1;32m----> 1\u001b[1;33m \u001b[0mprint\u001b[0m\u001b[1;33m(\u001b[0m\u001b[0mheh\u001b[0m\u001b[1;33m)\u001b[0m\u001b[1;33m\u001b[0m\u001b[1;33m\u001b[0m\u001b[0m\n\u001b[0m",
      "\u001b[1;31mNameError\u001b[0m: name 'heh' is not defined"
     ]
    }
   ],
   "source": [
    "print(heh)"
   ]
  },
  {
   "cell_type": "markdown",
   "metadata": {},
   "source": [
    "# Twitter"
   ]
  },
  {
   "cell_type": "code",
   "execution_count": null,
   "metadata": {},
   "outputs": [],
   "source": [
    "consumer_key = ''\n",
    "consumer_secret = ''\n",
    "access_token = ''\n",
    "access_token_secret = ''"
   ]
  },
  {
   "cell_type": "code",
   "execution_count": null,
   "metadata": {},
   "outputs": [],
   "source": [
    "auth = tweepy.OAuthHandler(consumer_key, consumer_secret) \n",
    "auth.set_access_token(access_token, access_token_secret) \n",
    "   \n",
    "api = tweepy.API(auth)\n",
    "  \n",
    "filenames = [img_name]\n",
    "media_ids = []\n",
    "for filename in filenames:\n",
    "     res = api.media_upload(filename)\n",
    "     media_ids.append(res.media_id)\n",
    "\n",
    "api.update_status(status=teks, media_ids=media_ids)"
   ]
  }
 ],
 "metadata": {
  "kernelspec": {
   "display_name": "Python 3",
   "language": "python",
   "name": "python3"
  },
  "language_info": {
   "codemirror_mode": {
    "name": "ipython",
    "version": 3
   },
   "file_extension": ".py",
   "mimetype": "text/x-python",
   "name": "python",
   "nbconvert_exporter": "python",
   "pygments_lexer": "ipython3",
   "version": "3.8.5"
  }
 },
 "nbformat": 4,
 "nbformat_minor": 2
}
